{
 "cells": [
  {
   "cell_type": "markdown",
   "id": "9b6d7262",
   "metadata": {},
   "source": [
    "This notebook discusses from scratch implementation of K-Nearest Neighbors algorithm"
   ]
  },
  {
   "cell_type": "code",
   "execution_count": 1,
   "id": "6f7c659f",
   "metadata": {},
   "outputs": [],
   "source": [
    "import numpy as np\n",
    "from sklearn.datasets import load_iris\n",
    "from sklearn.model_selection import train_test_split\n",
    "from sklearn.metrics import accuracy_score, classification_report"
   ]
  },
  {
   "cell_type": "code",
   "execution_count": 2,
   "id": "5b584731",
   "metadata": {},
   "outputs": [],
   "source": [
    "# Load dataset\n",
    "iris = load_iris()\n",
    "X = iris.data\n",
    "y = iris.target\n",
    "\n",
    "# Split dataset into training and testing sets\n",
    "X_train, X_test, y_train, y_test = train_test_split(X, y, test_size=0.2, random_state=42)"
   ]
  },
  {
   "cell_type": "markdown",
   "id": "257292e5",
   "metadata": {},
   "source": [
    "We can use any suitable distance metric as per the problem at hand (like euclidean, manhattan, etc). here we use euclidean distance."
   ]
  },
  {
   "cell_type": "code",
   "execution_count": 3,
   "id": "68b04e3f",
   "metadata": {},
   "outputs": [],
   "source": [
    "def euclidean_distance(x1, x2):\n",
    "    return np.sqrt(np.sum((x1 - x2) ** 2))"
   ]
  },
  {
   "cell_type": "code",
   "execution_count": 4,
   "id": "fc53bd3e",
   "metadata": {},
   "outputs": [],
   "source": [
    "def knn_predict(X_train, y_train, X_test, dist, k=3):\n",
    "    y_pred = []\n",
    "    \n",
    "    for x_test in X_test:\n",
    "        distances = []\n",
    "        for i, x_train in enumerate(X_train):\n",
    "            distance = dist(x_test, x_train)\n",
    "            distances.append((distance, y_train[i]))\n",
    "            \n",
    "        # Sort by distance\n",
    "        distances = sorted(distances, key=lambda x: x[0])\n",
    "        \n",
    "        # Get the k nearest neighbors\n",
    "        neighbors = distances[:k]\n",
    "        \n",
    "        # Get the most common class among the neighbors\n",
    "        classes = [neighbor[1] for neighbor in neighbors]\n",
    "        prediction = max(set(classes), key=classes.count)\n",
    "        y_pred.append(prediction)\n",
    "        \n",
    "    return np.array(y_pred)"
   ]
  },
  {
   "cell_type": "code",
   "execution_count": 5,
   "id": "91be182d",
   "metadata": {},
   "outputs": [],
   "source": [
    "k = 3\n",
    "y_pred = knn_predict(X_train, y_train, X_test, euclidean_distance, k=k)"
   ]
  },
  {
   "cell_type": "code",
   "execution_count": 6,
   "id": "f508589d",
   "metadata": {},
   "outputs": [
    {
     "name": "stdout",
     "output_type": "stream",
     "text": [
      "Accuracy: 1.0\n",
      "Classification Report:\n",
      "               precision    recall  f1-score   support\n",
      "\n",
      "           0       1.00      1.00      1.00        10\n",
      "           1       1.00      1.00      1.00         9\n",
      "           2       1.00      1.00      1.00        11\n",
      "\n",
      "    accuracy                           1.00        30\n",
      "   macro avg       1.00      1.00      1.00        30\n",
      "weighted avg       1.00      1.00      1.00        30\n",
      "\n"
     ]
    }
   ],
   "source": [
    "print(\"Accuracy:\", accuracy_score(y_test, y_pred))\n",
    "print(\"Classification Report:\\n\", classification_report(y_test, y_pred))"
   ]
  }
 ],
 "metadata": {
  "kernelspec": {
   "display_name": "Python 3 (ipykernel)",
   "language": "python",
   "name": "python3"
  },
  "language_info": {
   "codemirror_mode": {
    "name": "ipython",
    "version": 3
   },
   "file_extension": ".py",
   "mimetype": "text/x-python",
   "name": "python",
   "nbconvert_exporter": "python",
   "pygments_lexer": "ipython3",
   "version": "3.8.10"
  }
 },
 "nbformat": 4,
 "nbformat_minor": 5
}
