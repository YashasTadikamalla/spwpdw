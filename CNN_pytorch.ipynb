{
 "cells": [
  {
   "cell_type": "code",
   "execution_count": 11,
   "metadata": {},
   "outputs": [],
   "source": [
    "# import\n",
    "import torch\n",
    "import torchvision.datasets as datasets\n",
    "import torchvision.transforms as transforms\n",
    "from torch.utils.data import DataLoader\n",
    "from torch import nn\n",
    "import torch.nn.functional as F\n",
    "from torch import optim"
   ]
  },
  {
   "cell_type": "code",
   "execution_count": 12,
   "metadata": {},
   "outputs": [],
   "source": [
    "# data loading\n",
    "training_data = datasets.MNIST(\n",
    "    root=\"dataset\",\n",
    "    train=True,\n",
    "    download=True,\n",
    "    transform=transforms.ToTensor()\n",
    ")\n",
    "\n",
    "test_data = datasets.MNIST( \n",
    "    root=\"dataset\",\n",
    "    train=False,\n",
    "    download=True,\n",
    "    transform=transforms.ToTensor()\n",
    ")"
   ]
  },
  {
   "cell_type": "code",
   "execution_count": 13,
   "metadata": {},
   "outputs": [],
   "source": [
    "# hyperparameters\n",
    "input_size=28*28\n",
    "num_classes=10\n",
    "learning_rate=1e-3 # 5e-4\n",
    "batch_size=64\n",
    "num_epochs=3"
   ]
  },
  {
   "cell_type": "code",
   "execution_count": 14,
   "metadata": {},
   "outputs": [],
   "source": [
    "train_loader=DataLoader(dataset=training_data, batch_size=batch_size, shuffle=True)\n",
    "test_loader=DataLoader(dataset=test_data, batch_size=batch_size, shuffle=True)"
   ]
  },
  {
   "cell_type": "code",
   "execution_count": 15,
   "metadata": {},
   "outputs": [],
   "source": [
    "# neural network model\n",
    "class NeuralNetwork(nn.Module):\n",
    "#     def __init__(self, input_size, num_classes):\n",
    "#         super().__init__()\n",
    "#         self.fc1=nn.Linear(input_size, 50)\n",
    "#         self.fc2=nn.Linear(50, num_classes)\n",
    "        \n",
    "#     def forward(self, x):\n",
    "#         x=F.relu(self.fc1(x))\n",
    "#         x=self.fc2(x)\n",
    "#         return x\n",
    "    \n",
    "    def __init__(self, input_size, num_classes):\n",
    "        super().__init__()\n",
    "        self.network=nn.Sequential(\n",
    "            nn.Conv2d(in_channels=1, out_channels=16, kernel_size=3, stride=1, padding=1),  # First convolutional layer\n",
    "            nn.ReLU(),  # Activation function\n",
    "            nn.MaxPool2d(kernel_size=2, stride=2),  # Max pooling layer\n",
    "\n",
    "            nn.Conv2d(in_channels=16, out_channels=32, kernel_size=3, stride=1, padding=1),  # Second convolutional layer\n",
    "            nn.ReLU(),  # Activation function\n",
    "            nn.MaxPool2d(kernel_size=2, stride=2),  # Max pooling layer\n",
    "            \n",
    "            nn.Flatten(),  # Flattening the 2D output to 1D for the fully connected layers\n",
    "            \n",
    "            nn.Linear(32 * 7 * 7, 128),  # Fully connected layer (assuming input images are 28x28)\n",
    "            nn.ReLU(),  # Activation function\n",
    "            nn.Linear(128, num_classes)  # Output layer\n",
    "        )\n",
    "        \n",
    "    def forward(self, x):\n",
    "        return self.network(x)"
   ]
  },
  {
   "cell_type": "code",
   "execution_count": 16,
   "metadata": {},
   "outputs": [],
   "source": [
    "model=NeuralNetwork(input_size=input_size, num_classes=num_classes)"
   ]
  },
  {
   "cell_type": "code",
   "execution_count": 17,
   "metadata": {},
   "outputs": [],
   "source": [
    "# loss and optimiser\n",
    "criterion=nn.CrossEntropyLoss()\n",
    "optimizer=optim.Adam(model.parameters(), lr=learning_rate)"
   ]
  },
  {
   "cell_type": "code",
   "execution_count": 18,
   "metadata": {},
   "outputs": [
    {
     "name": "stdout",
     "output_type": "stream",
     "text": [
      "CPU times: user 4min 21s, sys: 953 ms, total: 4min 22s\n",
      "Wall time: 1min 6s\n"
     ]
    }
   ],
   "source": [
    "%%time\n",
    "for epoch in range(num_epochs):\n",
    "    for batch_idx, (data, targets) in enumerate(train_loader):\n",
    "        \n",
    "        # forward\n",
    "        scores=model(data)\n",
    "        loss=criterion(scores, targets)\n",
    "        \n",
    "        # backward\n",
    "        optimizer.zero_grad()\n",
    "        loss.backward()\n",
    "        \n",
    "        # gradient descent step\n",
    "        optimizer.step()"
   ]
  },
  {
   "cell_type": "code",
   "execution_count": 19,
   "metadata": {},
   "outputs": [],
   "source": [
    "device='cpu'\n",
    "def accuracy(loader, model):\n",
    "    num_correct=0\n",
    "    num_samples=0\n",
    "    model.eval()\n",
    "    \n",
    "    with torch.no_grad():\n",
    "        for x, y in loader:\n",
    "            scores=model(x)\n",
    "            _,predictions=scores.max(1)\n",
    "            num_correct+=(predictions==y).sum().item()\n",
    "            num_samples+=predictions.size(0)\n",
    "            \n",
    "    model.train()\n",
    "    return num_correct/num_samples  "
   ]
  },
  {
   "cell_type": "code",
   "execution_count": 20,
   "metadata": {},
   "outputs": [
    {
     "name": "stdout",
     "output_type": "stream",
     "text": [
      "Training Accuracy: 98.92\n",
      "Testing Accuracy: 98.73\n"
     ]
    }
   ],
   "source": [
    "print(f'Training Accuracy: {accuracy(train_loader, model)*100:.2f}')\n",
    "print(f'Testing Accuracy: {accuracy(test_loader, model)*100:.2f}')"
   ]
  }
 ],
 "metadata": {
  "kernelspec": {
   "display_name": "Python 3 (ipykernel)",
   "language": "python",
   "name": "python3"
  },
  "language_info": {
   "codemirror_mode": {
    "name": "ipython",
    "version": 3
   },
   "file_extension": ".py",
   "mimetype": "text/x-python",
   "name": "python",
   "nbconvert_exporter": "python",
   "pygments_lexer": "ipython3",
   "version": "3.8.10"
  }
 },
 "nbformat": 4,
 "nbformat_minor": 2
}
